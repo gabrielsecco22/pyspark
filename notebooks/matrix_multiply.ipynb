{
 "cells": [
  {
   "cell_type": "code",
   "execution_count": 2,
   "metadata": {
    "collapsed": true
   },
   "outputs": [
    {
     "name": "stdout",
     "output_type": "stream",
     "text": [
      "Performing standard matrix multiplication\n",
      "Best Sequential execution time (seconds): 6.260000000679611e-05\n"
     ]
    },
    {
     "ename": "AttributeError",
     "evalue": "'list' object has no attribute 'zipWithIndex'",
     "output_type": "error",
     "traceback": [
      "\u001B[1;31m---------------------------------------------------------------------------\u001B[0m",
      "\u001B[1;31mAttributeError\u001B[0m                            Traceback (most recent call last)",
      "Input \u001B[1;32mIn [2]\u001B[0m, in \u001B[0;36m<cell line: 82>\u001B[1;34m()\u001B[0m\n\u001B[0;32m     80\u001B[0m \u001B[38;5;66;03m# Perform and time matrix multiplication\u001B[39;00m\n\u001B[0;32m     81\u001B[0m start \u001B[38;5;241m=\u001B[39m timer() \u001B[38;5;66;03m#\u001B[39;00m\n\u001B[1;32m---> 82\u001B[0m C_matrix \u001B[38;5;241m=\u001B[39m \u001B[43mas_block_matrix\u001B[49m\u001B[43m(\u001B[49m\u001B[43mA_rdd\u001B[49m\u001B[43m,\u001B[49m\u001B[43m \u001B[49m\u001B[43mN\u001B[49m\u001B[43m,\u001B[49m\u001B[43m \u001B[49m\u001B[43mN\u001B[49m\u001B[43m)\u001B[49m\u001B[38;5;241m.\u001B[39mmultiply(as_block_matrix(B_rdd, N, N)) \u001B[38;5;66;03m#\u001B[39;00m\n\u001B[0;32m     83\u001B[0m end \u001B[38;5;241m=\u001B[39m timer() \u001B[38;5;66;03m#\u001B[39;00m\n\u001B[0;32m     85\u001B[0m \u001B[38;5;66;03m# Print the execution time\u001B[39;00m\n",
      "Input \u001B[1;32mIn [2]\u001B[0m, in \u001B[0;36mas_block_matrix\u001B[1;34m(rdd, rows, columns)\u001B[0m\n\u001B[0;32m     44\u001B[0m \u001B[38;5;28;01mdef\u001B[39;00m \u001B[38;5;21mas_block_matrix\u001B[39m(rdd, rows, columns):\n\u001B[0;32m     45\u001B[0m     \u001B[38;5;28;01mreturn\u001B[39;00m IndexedRowMatrix(\n\u001B[1;32m---> 46\u001B[0m         \u001B[43mrdd\u001B[49m\u001B[38;5;241;43m.\u001B[39;49m\u001B[43mzipWithIndex\u001B[49m()\u001B[38;5;241m.\u001B[39mmap(\u001B[38;5;28;01mlambda\u001B[39;00m i: IndexedRow(i[\u001B[38;5;241m1\u001B[39m], i[\u001B[38;5;241m0\u001B[39m]))\n\u001B[0;32m     47\u001B[0m     )\u001B[38;5;241m.\u001B[39mtoBlockMatrix(rows, columns)\n",
      "\u001B[1;31mAttributeError\u001B[0m: 'list' object has no attribute 'zipWithIndex'"
     ]
    }
   ],
   "source": [
    "import random\n",
    "from timeit import default_timer as timer\n",
    "from scipy.sparse import lil_matrix\n",
    "from pyspark.sql import SparkSession\n",
    "from pyspark.mllib.linalg.distributed import *\n",
    "\n",
    "\n",
    "# +======================================================================+\n",
    "# |                         Start of File                                |\n",
    "# +======================================================================+\n",
    "\n",
    "# Create and start Spark session\n",
    "app_name = 'PySpark Matrix Multiplication Example'\n",
    "master = 'local'\n",
    "spark = SparkSession.builder.appName(app_name).master(master).getOrCreate()\n",
    "spark.sparkContext.setLogLevel(\"ERROR\")\n",
    "\n",
    "# Define global variables\n",
    "N = 5 # Matrix dimensions\n",
    "\n",
    "# Method to create a populated matrix of size N * N, with potential\n",
    "# values ranging from (max_value - 1) through to max_value.\n",
    "def create_matrix(size, max_value):\n",
    "    return [[random.randint((max_value * -1), max_value) for i in range(size)] \\\n",
    "            for j in range(size)]\n",
    "\n",
    "# Method to create a matrix populated with 0's of size N * N.\n",
    "def create_empty_matrix(size):\n",
    "    return [[0 for i in range(size)] for j in range(size)]\n",
    "\n",
    "# Method to multiply two matrices of the same dimensions, i.e. N * N.\n",
    "def matrix_multiply(A, B, C, size):\n",
    "    for i in range(size):\n",
    "        for j in range(size):\n",
    "            total = 0 # Initialise total to 0\n",
    "            for k in range(size):\n",
    "                total += A[i][k] * B[k][j] # Perform matrix multiply\n",
    "            C[i][j] = total\n",
    "\n",
    "    # Return the result of the matrix multiplication\n",
    "    return C\n",
    "\n",
    "# Method to convert a Resilient Distributed Dataset (RDD) to a BlockMatrix object\n",
    "def as_block_matrix(rdd, rows, columns):\n",
    "    return IndexedRowMatrix(\n",
    "        rdd.zipWithIndex().map(lambda i: IndexedRow(i[1], i[0]))\n",
    "    ).toBlockMatrix(rows, columns)\n",
    "\n",
    "# Method to convert an indexed row matrix to a local array using Scipy 'lil_matrix'\n",
    "def indexedrowmatrix_to_array(matrix):\n",
    "    # Create an empty array of the same dimensions as the matrix\n",
    "    result = lil_matrix((matrix.numRows(), matrix.numCols()))\n",
    "\n",
    "    # Iterate through each row and set values in the empty array\n",
    "    for indexed_row in matrix.rows.collect():\n",
    "        result[indexed_row.index] = indexed_row.vector\n",
    "\n",
    "    # Return the local array\n",
    "    return result\n",
    "\n",
    "# Initialise matrices\n",
    "A = create_matrix(N, 500)\n",
    "B = create_matrix(N, 500)\n",
    "C = create_empty_matrix(N)\n",
    "\n",
    "print('Performing standard matrix multiplication')\n",
    "\n",
    "# Perform and time matrix multiplication\n",
    "start = timer() #\n",
    "C = matrix_multiply(A, B, C, N) #\n",
    "end = timer() #\n",
    "\n",
    "# Print the execution time\n",
    "print('Best Sequential execution time (seconds):', end - start)\n",
    "\n",
    "# Convert arrays to RDDs\n",
    "A_rdd = spark.sparkContext.parallelize(A).glom().collect()\n",
    "B_rdd = spark.sparkContext.parallelize(B)\n",
    "\n",
    "# Perform and time matrix multiplication\n",
    "start = timer() #\n",
    "C_matrix = as_block_matrix(A_rdd, N, N).multiply(as_block_matrix(B_rdd, N, N)) #\n",
    "end = timer() #\n",
    "\n",
    "# Print the execution time\n",
    "print('Apache Spark execution time (seconds):', end - start)\n",
    "\n",
    "# Convert the resulting BlockMatrix to a local array\n",
    "result = indexedrowmatrix_to_array(C_matrix.toIndexedRowMatrix())\n",
    "\n",
    "# Print resulting matrix if it's not excessively large\n",
    "if N <= 4:\n",
    "    print(\"Printing sequential result matrix.\")\n",
    "    for row in C:\n",
    "        print(row)\n",
    "    print(\"Printing Spark result matrix\")\n",
    "    print(result)\n",
    "\n",
    "# +======================================================================+\n",
    "# |                           End of File                                |\n",
    "# +======================================================================+"
   ]
  },
  {
   "cell_type": "code",
   "execution_count": null,
   "outputs": [],
   "source": [],
   "metadata": {
    "collapsed": false,
    "pycharm": {
     "name": "#%%\n"
    }
   }
  }
 ],
 "metadata": {
  "kernelspec": {
   "name": "pycharm-a475db05",
   "language": "python",
   "display_name": "PyCharm (pyspark)"
  },
  "language_info": {
   "codemirror_mode": {
    "name": "ipython",
    "version": 2
   },
   "file_extension": ".py",
   "mimetype": "text/x-python",
   "name": "python",
   "nbconvert_exporter": "python",
   "pygments_lexer": "ipython2",
   "version": "2.7.6"
  }
 },
 "nbformat": 4,
 "nbformat_minor": 0
}