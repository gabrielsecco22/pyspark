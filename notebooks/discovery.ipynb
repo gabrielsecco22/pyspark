{
 "cells": [
  {
   "cell_type": "code",
   "execution_count": 7,
   "metadata": {
    "collapsed": true
   },
   "outputs": [
    {
     "name": "stdout",
     "output_type": "stream",
     "text": [
      "+---------+----------+----------+----------------+--------------------+------------+----------+----------+-----+-------+--------------------+----------+\n",
      "|    badge|first_name| last_name|      department|               phone|salary_cents|bonus_rate|  birthday|state|zipcode|               email|start_date|\n",
      "+---------+----------+----------+----------------+--------------------+------------+----------+----------+-----+-------+--------------------+----------+\n",
      "|985134917|    Sherry|    Martin|           Sales|        542.447.9638|    21029481|      0.38|1957-04-01|   SD|  57489|sherry.martin@com...|2018-07-28|\n",
      "|522478832|  Kristina|      Diaz|Customer Support|        152.017.8523|    10119959|      1.05|1961-05-27|   GA|  30602|kristina.diaz@com...|2002-10-09|\n",
      "|489400447| Alexandra|    Bishop|     Procurement| (971)469-9186x36059|    20856174|      0.61|1998-10-22|   OK|  73109|alexandra.bishop@...|2021-07-23|\n",
      "|393500714|    Rachel|   Ballard|       Marketing| (859)263-6267x64571|     4305638|      0.83|1955-10-17|   MN|  56122|rachel.ballard@co...|1990-02-11|\n",
      "|908245161|     Tommy|     Jones|     Procurement|        688-046-9509|    11247477|      1.46|1951-06-10|   OR|  97767|tommy.jones@compa...|1991-05-05|\n",
      "|954590684|    Rachel|Richardson|              IT|001-389-715-8739x...|    21727686|      0.67|1971-06-04|   KY|  41478|rachel.richardson...|2019-03-25|\n",
      "|793991660|      Tina|      Lutz|           Sales|+1-442-597-6631x7288|    21147939|      0.98|1985-12-31|   WV|  25868|tina.lutz@company...|2021-05-07|\n",
      "|987692209|  Brittney|  Mckinney|           Sales|        195.263.9377|    16160943|      1.08|1968-12-12|   TN|  37805|brittney.mckinney...|2013-10-26|\n",
      "|745441871|   Bradley|     Myers|              HR|001-098-875-8433x...|    19277669|      0.54|1987-05-20|   LA|  70319|bradley.myers@com...|2021-06-14|\n",
      "|663506390|   Timothy|   Russell|Customer Support|       (752)057-3886|    19954859|      0.47|1960-12-25|   ME|  04806|timothy.russell@c...|2001-01-24|\n",
      "|425730730|     Brent|     Patel|              HR|        675-309-9647|     7296708|      0.76|1985-01-09|   SC|  29701|brent.patel@compa...|2019-11-17|\n",
      "|543661315|   Jeffrey|    Durham|       Marketing|        896.619.7350|    18595089|      1.41|1990-08-15|   PA|  16867|jeffrey.durham@co...|2016-12-27|\n",
      "|901429995|  Caroline|    Pruitt|              IT| +1-654-692-8987x902|     7914742|       0.5|1999-10-21|   CT|  06387|caroline.pruitt@c...|2021-11-05|\n",
      "|199897642|     Brady|      Reed|     Procurement|        127.941.5498|    18065931|      0.89|1951-11-18|   WI|  53456|brady.reed@compan...|2015-12-24|\n",
      "|616039996|  Kristina|     Perez|           Sales|   (378)246-2892x313|    23410142|      0.51|1964-08-10|   AL|  36342|kristina.perez@co...|2020-02-11|\n",
      "|320200183|     Emily|    Foster|     Procurement|        726.633.6867|    21562042|      0.75|1975-06-11|   WA|  98186|emily.foster@comp...|2021-06-26|\n",
      "|340682324|     Tanya|    Harris|      Operations|        610-401-5737|     7729231|      0.41|1971-09-26|   VT|  05371|tanya.harris@comp...|2021-06-21|\n",
      "|505899326|       Kim|      Boyd|Customer Support|001-864-870-2577x...|     9513510|      1.11|1962-10-23|   MA|  02745|kim.boyd@company.com|2021-12-30|\n",
      "|664606950|     Amber|    Bowman|              HR|  989-766-7249x94458|     7530063|      1.22|1957-04-27|   NV|  89363|amber.bowman@comp...|1990-01-10|\n",
      "|437285356|    Robert|    Wilson|Customer Support|  953-482-5823x16574|    20468338|      0.96|1976-03-09|   DC|  20008|robert.wilson@com...|2009-05-26|\n",
      "+---------+----------+----------+----------------+--------------------+------------+----------+----------+-----+-------+--------------------+----------+\n",
      "only showing top 20 rows\n",
      "\n"
     ]
    }
   ],
   "source": [
    "from pyspark.sql import SparkSession\n",
    "\n",
    "appName = \"Employees Data discovery\"\n",
    "master = 'local[*]'\n",
    "\n",
    "# Create Spark session\n",
    "spark = SparkSession.builder \\\n",
    "    .master(master) \\\n",
    "    .appName(appName) \\\n",
    "    .getOrCreate()\n",
    "\n",
    "# Convert list to data frame\n",
    "df = spark.read.format('csv') \\\n",
    "                .option('header',True) \\\n",
    "                .option('multiLine', True) \\\n",
    "                .load('../entities/employee/employees_100000.csv')\n",
    "\n",
    "df.show()"
   ]
  },
  {
   "cell_type": "code",
   "execution_count": 11,
   "outputs": [
    {
     "name": "stdout",
     "output_type": "stream",
     "text": [
      "+---------+----------+----------+----------------+--------------------+------------+----------+----------+-----+-------+--------------------+----------+--------------+------------------+-----------------------------+\n",
      "|    badge|first_name| last_name|      department|               phone|salary_cents|bonus_rate|  birthday|state|zipcode|               email|start_date|calculated_age|calculated_job_age|calculated_total_compensation|\n",
      "+---------+----------+----------+----------------+--------------------+------------+----------+----------+-----+-------+--------------------+----------+--------------+------------------+-----------------------------+\n",
      "|985134917|    Sherry|    Martin|           Sales|        542.447.9638|    21029481|      0.38|1957-04-01|   SD|  57489|sherry.martin@com...|2018-07-28|            65|                 3|                     29020684|\n",
      "|522478832|  Kristina|      Diaz|Customer Support|        152.017.8523|    10119959|      1.05|1961-05-27|   GA|  30602|kristina.diaz@com...|2002-10-09|            61|                19|                     20745916|\n",
      "|489400447| Alexandra|    Bishop|     Procurement| (971)469-9186x36059|    20856174|      0.61|1998-10-22|   OK|  73109|alexandra.bishop@...|2021-07-23|            23|                 0|                     33578440|\n",
      "|393500714|    Rachel|   Ballard|       Marketing| (859)263-6267x64571|     4305638|      0.83|1955-10-17|   MN|  56122|rachel.ballard@co...|1990-02-11|            66|                32|                      7879318|\n",
      "|908245161|     Tommy|     Jones|     Procurement|        688-046-9509|    11247477|      1.46|1951-06-10|   OR|  97767|tommy.jones@compa...|1991-05-05|            71|                31|                     27668793|\n",
      "|954590684|    Rachel|Richardson|              IT|001-389-715-8739x...|    21727686|      0.67|1971-06-04|   KY|  41478|rachel.richardson...|2019-03-25|            51|                 3|                     36285236|\n",
      "|793991660|      Tina|      Lutz|           Sales|+1-442-597-6631x7288|    21147939|      0.98|1985-12-31|   WV|  25868|tina.lutz@company...|2021-05-07|            36|                 1|                     41872919|\n",
      "|987692209|  Brittney|  Mckinney|           Sales|        195.263.9377|    16160943|      1.08|1968-12-12|   TN|  37805|brittney.mckinney...|2013-10-26|            53|                 8|                     33614761|\n",
      "|745441871|   Bradley|     Myers|              HR|001-098-875-8433x...|    19277669|      0.54|1987-05-20|   LA|  70319|bradley.myers@com...|2021-06-14|            35|                 1|                     29687610|\n",
      "|663506390|   Timothy|   Russell|Customer Support|       (752)057-3886|    19954859|      0.47|1960-12-25|   ME|  04806|timothy.russell@c...|2001-01-24|            61|                21|                     29333643|\n",
      "|425730730|     Brent|     Patel|              HR|        675-309-9647|     7296708|      0.76|1985-01-09|   SC|  29701|brent.patel@compa...|2019-11-17|            37|                 2|                     12842206|\n",
      "|543661315|   Jeffrey|    Durham|       Marketing|        896.619.7350|    18595089|      1.41|1990-08-15|   PA|  16867|jeffrey.durham@co...|2016-12-27|            31|                 5|                     44814164|\n",
      "|901429995|  Caroline|    Pruitt|              IT| +1-654-692-8987x902|     7914742|       0.5|1999-10-21|   CT|  06387|caroline.pruitt@c...|2021-11-05|            22|                 0|                     11872113|\n",
      "|199897642|     Brady|      Reed|     Procurement|        127.941.5498|    18065931|      0.89|1951-11-18|   WI|  53456|brady.reed@compan...|2015-12-24|            70|                 6|                     34144610|\n",
      "|616039996|  Kristina|     Perez|           Sales|   (378)246-2892x313|    23410142|      0.51|1964-08-10|   AL|  36342|kristina.perez@co...|2020-02-11|            57|                 2|                     35349314|\n",
      "|320200183|     Emily|    Foster|     Procurement|        726.633.6867|    21562042|      0.75|1975-06-11|   WA|  98186|emily.foster@comp...|2021-06-26|            47|                 1|                     37733574|\n",
      "|340682324|     Tanya|    Harris|      Operations|        610-401-5737|     7729231|      0.41|1971-09-26|   VT|  05371|tanya.harris@comp...|2021-06-21|            50|                 1|                     10898216|\n",
      "|505899326|       Kim|      Boyd|Customer Support|001-864-870-2577x...|     9513510|      1.11|1962-10-23|   MA|  02745|kim.boyd@company.com|2021-12-30|            59|                 0|                     20073506|\n",
      "|664606950|     Amber|    Bowman|              HR|  989-766-7249x94458|     7530063|      1.22|1957-04-27|   NV|  89363|amber.bowman@comp...|1990-01-10|            65|                32|                     16716740|\n",
      "|437285356|    Robert|    Wilson|Customer Support|  953-482-5823x16574|    20468338|      0.96|1976-03-09|   DC|  20008|robert.wilson@com...|2009-05-26|            46|                13|                     40117942|\n",
      "+---------+----------+----------+----------------+--------------------+------------+----------+----------+-----+-------+--------------------+----------+--------------+------------------+-----------------------------+\n",
      "only showing top 20 rows\n",
      "\n"
     ]
    }
   ],
   "source": [
    "from pyspark.sql.types import DecimalType\n",
    "from operator import add\n",
    "from pyspark.sql.functions import lit, col, when, floor, datediff, current_date, to_date\n",
    "from pyspark.sql import functions as F\n",
    "\n",
    "df = df.withColumn('calculated_age',floor(datediff(current_date(), to_date(col('birthday'), 'yyyy-M-d'))/365.25))\n",
    "df = df.withColumn('calculated_job_age', floor(F.months_between(current_date(), to_date(col('start_date'), 'yyyy-M-d'))/12))\n",
    "df = df.withColumn(\"calculated_total_compensation\", (col(\"salary_cents\")*(1+col('bonus_rate'))).cast(DecimalType(14,0)))\n",
    "df.show()"
   ],
   "metadata": {
    "collapsed": false,
    "pycharm": {
     "name": "#%%\n"
    }
   }
  },
  {
   "cell_type": "code",
   "execution_count": 17,
   "outputs": [
    {
     "name": "stdout",
     "output_type": "stream",
     "text": [
      "+--------+\n",
      "|count(1)|\n",
      "+--------+\n",
      "|  100000|\n",
      "+--------+\n",
      "\n"
     ]
    }
   ],
   "source": [
    "\n",
    "# from pyspark import StorageLevel\n",
    "#\n",
    "# df.groupBy(\"state\").agg(F.avg('calculated_total_compensation'), F.count('state'), F.avg('calculated_job_age'), F.max('calculated_total_compensation')).show()\n",
    "# df.createOrReplaceTempView('employees')\n",
    "# df = df.persist(storageLevel=StorageLevel.DISK_ONLY)\n",
    "q = \"SELECT count(*) from employees\"\n",
    "spark.sql(q).show()"
   ],
   "metadata": {
    "collapsed": false,
    "pycharm": {
     "name": "#%%\n"
    }
   }
  }
 ],
 "metadata": {
  "kernelspec": {
   "display_name": "Python 3",
   "language": "python",
   "name": "python3"
  },
  "language_info": {
   "codemirror_mode": {
    "name": "ipython",
    "version": 2
   },
   "file_extension": ".py",
   "mimetype": "text/x-python",
   "name": "python",
   "nbconvert_exporter": "python",
   "pygments_lexer": "ipython2",
   "version": "2.7.6"
  }
 },
 "nbformat": 4,
 "nbformat_minor": 0
}